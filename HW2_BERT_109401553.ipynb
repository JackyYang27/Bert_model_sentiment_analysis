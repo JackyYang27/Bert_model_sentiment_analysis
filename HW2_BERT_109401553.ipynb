{
  "cells": [
    {
      "cell_type": "markdown",
      "source": [
        "# 作業 2: 牛逼！情緒分析\n",
        "\n",
        "資料集: [Learning Word Vectors for Sentiment Analysis](https://aclanthology.org/P11-1015.pdf)\n",
        "\n",
        "程式碼參考自: [huggingface](https://huggingface.co/)\n",
        "\n",
        "> **資料集說明**\n",
        "\n",
        "Large Movie Review Dataset. This is a dataset for binary sentiment classification containing substantially more data than previous benchmark datasets. We provide a set of 25,000 highly polar movie reviews for training, and 25,000 for testing. There is additional unlabeled data for use as well.\n",
        "\n",
        ">**本次介紹模型為BERT**\n",
        "\n",
        "[BERT: Pre-training of Deep Bidirectional Transformers for Language Understanding](https://github.com/google-research/bert)\n",
        "\n",
        "程式碼參考自: [huggingface](https://huggingface.co/)\n",
        "\n",
        "![](https://i.imgur.com/spiKPbQ.png)\n",
        "\n",
        "[可搭配李宏毅大大的說明影片食用](https://youtu.be/UYPa347-DdE)\n",
        "\n",
        "**訓練一個 BERT 分類模型，輸入是一句話，辨識出這句話的情緒傾向。**\n",
        "\n",
        "\n",
        ">**作業說明**\n",
        "\n",
        "**第一步驟**: 左上角 檔案 -> 在雲端硬碟建立副本。\n",
        "\n",
        "**第二步驟**: 右上角 共用 -> 取得連結 -> 任何知道這個連結的人都能編輯\n",
        "\n",
        "**第三步驟**: 左上角 執行階段 -> 更變執行類型 -> GPU。 可以加快模型速度\n",
        "\n",
        "**第四步驟**: 檔案名稱，請填寫你的學號，把副本上下引號刪掉。 **如  \"HW2-BERT-112423050.ipynb\"**\n",
        "\n",
        "請 **隨意修改** 這個 colab 的程式來完成訓練 BERT 分類模型。**要跑得出來 Testing Accuracy, 須完成 TODO1-7**，不必一定要照著提示走。\n",
        "繳交時記得改檔案標題的學號。\n",
        "\n",
        "本次作業著重在學習 pytorch 的使用方法及 Transformer 家族中 BERT 的應用。\n",
        "\n",
        "> **作業限制**\n",
        "\n",
        "1. 不要動資料集、不要在訓練時偷看 test data\n",
        "2. 模型可自行多嘗試不同組合，**不能只用已經 pretrained 好的模型**，一定再用新的資料訓練過\n",
        "3. **不要抄襲**\n",
        "\n",
        "> **作業繳交**\n",
        "\n",
        "1. 完成訓練後保存 output 結果 ，更改**檔名學號**，左上角 檔案 -> 下載成 ipynb 檔。\n",
        "2. 交一個 pdf 檔，裡面需要附上**你的作業 colab 連結 ( 設為可編輯 )**、姓名學號年級 、過程和執行結果的截圖 ，並說明你程式撰寫的過程 、本次作業心得 ( 至少 50 字 )。\n",
        "3. 文件內至少應貼上你的 Test Acc\n",
        "4. 上述兩個檔案繳交至 ee-class。\n",
        "\n",
        "> **算分標準**\n",
        "\n",
        "* 基本分（90 分）：(Test_Acc - 60）(35 分) + Training function（20 分） + Model（15 分） + 文件（20 分）\n",
        "  1. (Test_Acc - 60):  用訓練完的 bert-base-uncased 模型去看 Test 資料的 accuracy 再減去 60，最低此項目 0 分，最高此項目 35 分\n",
        "  2. Training function : 完成前置準備所需的程式碼 ( 資料處理等 )，共 20 分 ( 包含 TODO1-4)\n",
        "  3. Model : 完成模型建構 ，模型訓練及模型預測 ，共 15 分 (TODO5-7)\n",
        "  4. 文件 : 共 20 分\n",
        "    1.  姓名、學號、年級（1%）\n",
        "    1.  colab 連結（1%）\n",
        "    1. Test accuracy（2%）\n",
        "    1. 撰寫過程與截圖（8%）\n",
        "    1. 心得（8%，至少 50 字）\n",
        "* 加分項（10 分 ）：請附上二種的 pretrained 模型結果（一個 5 分），最多只加到 10 分（ 即完成 2 個模型 ）\n",
        "  1. 參考資料: [Transformer 模型總覽](https://huggingface.co/docs/transformers/index)\n",
        "  2. 舉例：原本是 bert-base-uncased （完成這個就已經有 5 分了），如果你換其他模型如 distilbert-base-uncased ，再完成一次並記錄結果可以再加 5 分（ 可在文件中敘述不同模型的差異或建議 ）\n",
        "\n",
        "有問題再來信助教: s112423023@g.ncu.edu.tw(蕭鈺宸)、112423050@g.ncu.edu.tw(郭柏成)\n"
      ],
      "metadata": {
        "id": "ZpI-S9-Hp-En"
      },
      "id": "ZpI-S9-Hp-En"
    },
    {
      "cell_type": "markdown",
      "source": [
        "### 資料集下載\n",
        "\n",
        "- 資料集說明 :\n",
        "  - text: a string feature.\n",
        "  - label: a classification label, with possible values including neg (0), pos (1)."
      ],
      "metadata": {
        "id": "6Y3gm_UxqEr1"
      },
      "id": "6Y3gm_UxqEr1"
    },
    {
      "cell_type": "markdown",
      "source": [
        "### 請注意以下 ***TODO*** 區塊是需要改寫之處\n",
        "* TODO\n",
        "> ```\n",
        "> ##########\n",
        "> # todo #\n",
        "> ##########\n",
        "> ```"
      ],
      "metadata": {
        "id": "9aKF-XVUggmA"
      },
      "id": "9aKF-XVUggmA"
    },
    {
      "cell_type": "markdown",
      "metadata": {
        "id": "8zVpYXmzXyQ4"
      },
      "source": [
        "## 安裝與載入所需套件"
      ],
      "id": "8zVpYXmzXyQ4"
    },
    {
      "cell_type": "code",
      "source": [
        "!pip install datasets transformers"
      ],
      "metadata": {
        "colab": {
          "base_uri": "https://localhost:8080/"
        },
        "id": "sGLfFjfXYIQ8",
        "outputId": "233eedaa-cf44-4f42-851a-c460351daf80"
      },
      "id": "sGLfFjfXYIQ8",
      "execution_count": null,
      "outputs": [
        {
          "output_type": "stream",
          "name": "stdout",
          "text": [
            "Requirement already satisfied: datasets in /usr/local/lib/python3.10/dist-packages (2.18.0)\n",
            "Requirement already satisfied: transformers in /usr/local/lib/python3.10/dist-packages (4.38.2)\n",
            "Requirement already satisfied: filelock in /usr/local/lib/python3.10/dist-packages (from datasets) (3.13.4)\n",
            "Requirement already satisfied: numpy>=1.17 in /usr/local/lib/python3.10/dist-packages (from datasets) (1.25.2)\n",
            "Requirement already satisfied: pyarrow>=12.0.0 in /usr/local/lib/python3.10/dist-packages (from datasets) (14.0.2)\n",
            "Requirement already satisfied: pyarrow-hotfix in /usr/local/lib/python3.10/dist-packages (from datasets) (0.6)\n",
            "Requirement already satisfied: dill<0.3.9,>=0.3.0 in /usr/local/lib/python3.10/dist-packages (from datasets) (0.3.8)\n",
            "Requirement already satisfied: pandas in /usr/local/lib/python3.10/dist-packages (from datasets) (2.0.3)\n",
            "Requirement already satisfied: requests>=2.19.0 in /usr/local/lib/python3.10/dist-packages (from datasets) (2.31.0)\n",
            "Requirement already satisfied: tqdm>=4.62.1 in /usr/local/lib/python3.10/dist-packages (from datasets) (4.66.2)\n",
            "Requirement already satisfied: xxhash in /usr/local/lib/python3.10/dist-packages (from datasets) (3.4.1)\n",
            "Requirement already satisfied: multiprocess in /usr/local/lib/python3.10/dist-packages (from datasets) (0.70.16)\n",
            "Requirement already satisfied: fsspec[http]<=2024.2.0,>=2023.1.0 in /usr/local/lib/python3.10/dist-packages (from datasets) (2023.6.0)\n",
            "Requirement already satisfied: aiohttp in /usr/local/lib/python3.10/dist-packages (from datasets) (3.9.3)\n",
            "Requirement already satisfied: huggingface-hub>=0.19.4 in /usr/local/lib/python3.10/dist-packages (from datasets) (0.20.3)\n",
            "Requirement already satisfied: packaging in /usr/local/lib/python3.10/dist-packages (from datasets) (24.0)\n",
            "Requirement already satisfied: pyyaml>=5.1 in /usr/local/lib/python3.10/dist-packages (from datasets) (6.0.1)\n",
            "Requirement already satisfied: regex!=2019.12.17 in /usr/local/lib/python3.10/dist-packages (from transformers) (2023.12.25)\n",
            "Requirement already satisfied: tokenizers<0.19,>=0.14 in /usr/local/lib/python3.10/dist-packages (from transformers) (0.15.2)\n",
            "Requirement already satisfied: safetensors>=0.4.1 in /usr/local/lib/python3.10/dist-packages (from transformers) (0.4.2)\n",
            "Requirement already satisfied: aiosignal>=1.1.2 in /usr/local/lib/python3.10/dist-packages (from aiohttp->datasets) (1.3.1)\n",
            "Requirement already satisfied: attrs>=17.3.0 in /usr/local/lib/python3.10/dist-packages (from aiohttp->datasets) (23.2.0)\n",
            "Requirement already satisfied: frozenlist>=1.1.1 in /usr/local/lib/python3.10/dist-packages (from aiohttp->datasets) (1.4.1)\n",
            "Requirement already satisfied: multidict<7.0,>=4.5 in /usr/local/lib/python3.10/dist-packages (from aiohttp->datasets) (6.0.5)\n",
            "Requirement already satisfied: yarl<2.0,>=1.0 in /usr/local/lib/python3.10/dist-packages (from aiohttp->datasets) (1.9.4)\n",
            "Requirement already satisfied: async-timeout<5.0,>=4.0 in /usr/local/lib/python3.10/dist-packages (from aiohttp->datasets) (4.0.3)\n",
            "Requirement already satisfied: typing-extensions>=3.7.4.3 in /usr/local/lib/python3.10/dist-packages (from huggingface-hub>=0.19.4->datasets) (4.11.0)\n",
            "Requirement already satisfied: charset-normalizer<4,>=2 in /usr/local/lib/python3.10/dist-packages (from requests>=2.19.0->datasets) (3.3.2)\n",
            "Requirement already satisfied: idna<4,>=2.5 in /usr/local/lib/python3.10/dist-packages (from requests>=2.19.0->datasets) (3.6)\n",
            "Requirement already satisfied: urllib3<3,>=1.21.1 in /usr/local/lib/python3.10/dist-packages (from requests>=2.19.0->datasets) (2.0.7)\n",
            "Requirement already satisfied: certifi>=2017.4.17 in /usr/local/lib/python3.10/dist-packages (from requests>=2.19.0->datasets) (2024.2.2)\n",
            "Requirement already satisfied: python-dateutil>=2.8.2 in /usr/local/lib/python3.10/dist-packages (from pandas->datasets) (2.8.2)\n",
            "Requirement already satisfied: pytz>=2020.1 in /usr/local/lib/python3.10/dist-packages (from pandas->datasets) (2023.4)\n",
            "Requirement already satisfied: tzdata>=2022.1 in /usr/local/lib/python3.10/dist-packages (from pandas->datasets) (2024.1)\n",
            "Requirement already satisfied: six>=1.5 in /usr/local/lib/python3.10/dist-packages (from python-dateutil>=2.8.2->pandas->datasets) (1.16.0)\n"
          ]
        }
      ]
    },
    {
      "cell_type": "code",
      "execution_count": null,
      "metadata": {
        "id": "ej79ZzPJXyQ5"
      },
      "outputs": [],
      "source": [
        "from torch.utils.data import Dataset, DataLoader\n",
        "from transformers import AutoTokenizer\n",
        "from transformers import get_linear_schedule_with_warmup\n",
        "from transformers import get_cosine_schedule_with_warmup\n",
        "from transformers.models.bert.modeling_bert import BertPreTrainedModel, BertModel\n",
        "from sklearn.model_selection import train_test_split\n",
        "from sklearn.metrics import accuracy_score, f1_score, recall_score, precision_score\n",
        "import torch\n",
        "import torch.nn.functional as Fun\n",
        "import transformers\n",
        "import matplotlib.pyplot as plt\n",
        "from tqdm import tqdm\n",
        "import pandas as pd\n",
        "import time\n",
        "import warnings\n",
        "warnings.filterwarnings('ignore') # setting ignore as a parameter"
      ],
      "id": "ej79ZzPJXyQ5"
    },
    {
      "cell_type": "markdown",
      "metadata": {
        "id": "kFHx_Dq5XyQ7"
      },
      "source": [
        "## 一些模型會用到的小函數"
      ],
      "id": "kFHx_Dq5XyQ7"
    },
    {
      "cell_type": "markdown",
      "source": [
        "* TODO1: 完成 get_pred()\n",
        "> 從logits的dimension=1去取得結果中數值最高者當做預測結果\n",
        "* TODO2: 完成 cal_metrics()\n",
        "> 透過將 tensor 轉為 numpy，可使用 sklearn 的套件算出 acc, f1_score, recall 及 precision"
      ],
      "metadata": {
        "id": "i6gcO4YfxzeT"
      },
      "id": "i6gcO4YfxzeT"
    },
    {
      "cell_type": "code",
      "execution_count": null,
      "metadata": {
        "id": "nOSkuPT7XyQ8"
      },
      "outputs": [],
      "source": [
        "# 把輸入的矩陣變成一為向量\n",
        "def get_pred(logits):\n",
        "    return torch.argmax(logits, dim=1)\n",
        "\n",
        "# calculate confusion metrics\n",
        "def cal_metrics(pred, ans):\n",
        "    # Convert tensors to numpy arrays\n",
        "    pred = pred.cpu().detach().numpy()\n",
        "    ans = ans.cpu().detach().numpy()\n",
        "    # Calculate metrics\n",
        "    accuracy = accuracy_score(ans, pred)\n",
        "    f1 = f1_score(ans, pred, average='weighted')  # 'weighted' accounts for label imbalance\n",
        "    recall = recall_score(ans, pred, average='weighted')\n",
        "    precision = precision_score(ans, pred, average='weighted')\n",
        "\n",
        "    return accuracy, f1, recall, precision"
      ],
      "id": "nOSkuPT7XyQ8"
    },
    {
      "cell_type": "code",
      "execution_count": null,
      "metadata": {
        "id": "RuLxKpySXyQ-"
      },
      "outputs": [],
      "source": [
        "# save model to path\n",
        "def save_checkpoint(save_path, model):\n",
        "  if save_path == None:\n",
        "      return\n",
        "  torch.save(model.state_dict(), save_path)\n",
        "  print(f'Model saved to ==> {save_path}')\n",
        "\n",
        "# load model from path\n",
        "def load_checkpoint(load_path, model, device):\n",
        "  if load_path==None:\n",
        "      return\n",
        "  state_dict = torch.load(load_path, map_location=device)\n",
        "  print(f'Model loaded from <== {load_path}')\n",
        "\n",
        "  model.load_state_dict(state_dict)\n",
        "  return model"
      ],
      "id": "RuLxKpySXyQ-"
    },
    {
      "cell_type": "markdown",
      "metadata": {
        "id": "ioYB1sE_XyRA"
      },
      "source": [
        "## 載入資料\n",
        "\n",
        "- 這個資料集有分成 train, test, unsupervised\n",
        "\n",
        "- 這次我們只使用 train 及 test 資料，且我們需要將原資料重新進行分割。\n",
        "\n",
        "- 將兩份資料合併後切割成 3:1:1 或是 8:1:1 的 train/val/test 資料集。"
      ],
      "id": "ioYB1sE_XyRA"
    },
    {
      "cell_type": "code",
      "source": [
        "from datasets import load_dataset\n",
        "\n",
        "dataset = load_dataset(\"imdb\")"
      ],
      "metadata": {
        "id": "r_mBNUdCA410"
      },
      "id": "r_mBNUdCA410",
      "execution_count": null,
      "outputs": []
    },
    {
      "cell_type": "markdown",
      "source": [
        "看一下資料格式長怎樣"
      ],
      "metadata": {
        "id": "07XTeYjcTen9"
      },
      "id": "07XTeYjcTen9"
    },
    {
      "cell_type": "code",
      "source": [
        "dataset"
      ],
      "metadata": {
        "colab": {
          "base_uri": "https://localhost:8080/"
        },
        "id": "JxuLKpupMejB",
        "outputId": "ea71a124-00f3-4b6d-e78b-6751c3fe02ab"
      },
      "id": "JxuLKpupMejB",
      "execution_count": null,
      "outputs": [
        {
          "output_type": "execute_result",
          "data": {
            "text/plain": [
              "DatasetDict({\n",
              "    train: Dataset({\n",
              "        features: ['text', 'label'],\n",
              "        num_rows: 25000\n",
              "    })\n",
              "    test: Dataset({\n",
              "        features: ['text', 'label'],\n",
              "        num_rows: 25000\n",
              "    })\n",
              "    unsupervised: Dataset({\n",
              "        features: ['text', 'label'],\n",
              "        num_rows: 50000\n",
              "    })\n",
              "})"
            ]
          },
          "metadata": {},
          "execution_count": 87
        }
      ]
    },
    {
      "cell_type": "code",
      "source": [
        "dataset['train'][0]"
      ],
      "metadata": {
        "colab": {
          "base_uri": "https://localhost:8080/"
        },
        "id": "fkrrOqXdTaaE",
        "outputId": "81913f7a-e4fc-48ef-8277-5ba4dceac6e6"
      },
      "id": "fkrrOqXdTaaE",
      "execution_count": null,
      "outputs": [
        {
          "output_type": "execute_result",
          "data": {
            "text/plain": [
              "{'text': 'I rented I AM CURIOUS-YELLOW from my video store because of all the controversy that surrounded it when it was first released in 1967. I also heard that at first it was seized by U.S. customs if it ever tried to enter this country, therefore being a fan of films considered \"controversial\" I really had to see this for myself.<br /><br />The plot is centered around a young Swedish drama student named Lena who wants to learn everything she can about life. In particular she wants to focus her attentions to making some sort of documentary on what the average Swede thought about certain political issues such as the Vietnam War and race issues in the United States. In between asking politicians and ordinary denizens of Stockholm about their opinions on politics, she has sex with her drama teacher, classmates, and married men.<br /><br />What kills me about I AM CURIOUS-YELLOW is that 40 years ago, this was considered pornographic. Really, the sex and nudity scenes are few and far between, even then it\\'s not shot like some cheaply made porno. While my countrymen mind find it shocking, in reality sex and nudity are a major staple in Swedish cinema. Even Ingmar Bergman, arguably their answer to good old boy John Ford, had sex scenes in his films.<br /><br />I do commend the filmmakers for the fact that any sex shown in the film is shown for artistic purposes rather than just to shock people and make money to be shown in pornographic theaters in America. I AM CURIOUS-YELLOW is a good film for anyone wanting to study the meat and potatoes (no pun intended) of Swedish cinema. But really, this film doesn\\'t have much of a plot.',\n",
              " 'label': 0}"
            ]
          },
          "metadata": {},
          "execution_count": 88
        }
      ]
    },
    {
      "cell_type": "markdown",
      "source": [
        "* TODO3\n",
        "  >把資料拿出來後 ，將 train 及 test 合併，重新切割後，儲存下來。"
      ],
      "metadata": {
        "id": "6JN_QzdbSR2I"
      },
      "id": "6JN_QzdbSR2I"
    },
    {
      "cell_type": "code",
      "source": [
        "import pandas as pd\n",
        "all_data = [] # a list to save all data\n",
        "for data in dataset['train']:\n",
        "  all_data.append({'text':data['text'], 'label':data['label']})\n",
        "for data in dataset['test']:\n",
        "  all_data.append({'text':data['text'], 'label':data['label']})\n",
        "\n",
        "all_df = pd.DataFrame(all_data, columns=['text', 'label'])\n",
        "all_df.head(5)\n"
      ],
      "metadata": {
        "id": "PHWieZNXIos5",
        "colab": {
          "base_uri": "https://localhost:8080/",
          "height": 206
        },
        "outputId": "aaf99e06-b229-4f73-989e-0905165b9d9d"
      },
      "id": "PHWieZNXIos5",
      "execution_count": null,
      "outputs": [
        {
          "output_type": "execute_result",
          "data": {
            "text/plain": [
              "                                                text  label\n",
              "0  I rented I AM CURIOUS-YELLOW from my video sto...      0\n",
              "1  \"I Am Curious: Yellow\" is a risible and preten...      0\n",
              "2  If only to avoid making this type of film in t...      0\n",
              "3  This film was probably inspired by Godard's Ma...      0\n",
              "4  Oh, brother...after hearing about this ridicul...      0"
            ],
            "text/html": [
              "\n",
              "  <div id=\"df-3e1ac39a-f937-4abb-8fc0-499bc0445009\" class=\"colab-df-container\">\n",
              "    <div>\n",
              "<style scoped>\n",
              "    .dataframe tbody tr th:only-of-type {\n",
              "        vertical-align: middle;\n",
              "    }\n",
              "\n",
              "    .dataframe tbody tr th {\n",
              "        vertical-align: top;\n",
              "    }\n",
              "\n",
              "    .dataframe thead th {\n",
              "        text-align: right;\n",
              "    }\n",
              "</style>\n",
              "<table border=\"1\" class=\"dataframe\">\n",
              "  <thead>\n",
              "    <tr style=\"text-align: right;\">\n",
              "      <th></th>\n",
              "      <th>text</th>\n",
              "      <th>label</th>\n",
              "    </tr>\n",
              "  </thead>\n",
              "  <tbody>\n",
              "    <tr>\n",
              "      <th>0</th>\n",
              "      <td>I rented I AM CURIOUS-YELLOW from my video sto...</td>\n",
              "      <td>0</td>\n",
              "    </tr>\n",
              "    <tr>\n",
              "      <th>1</th>\n",
              "      <td>\"I Am Curious: Yellow\" is a risible and preten...</td>\n",
              "      <td>0</td>\n",
              "    </tr>\n",
              "    <tr>\n",
              "      <th>2</th>\n",
              "      <td>If only to avoid making this type of film in t...</td>\n",
              "      <td>0</td>\n",
              "    </tr>\n",
              "    <tr>\n",
              "      <th>3</th>\n",
              "      <td>This film was probably inspired by Godard's Ma...</td>\n",
              "      <td>0</td>\n",
              "    </tr>\n",
              "    <tr>\n",
              "      <th>4</th>\n",
              "      <td>Oh, brother...after hearing about this ridicul...</td>\n",
              "      <td>0</td>\n",
              "    </tr>\n",
              "  </tbody>\n",
              "</table>\n",
              "</div>\n",
              "    <div class=\"colab-df-buttons\">\n",
              "\n",
              "  <div class=\"colab-df-container\">\n",
              "    <button class=\"colab-df-convert\" onclick=\"convertToInteractive('df-3e1ac39a-f937-4abb-8fc0-499bc0445009')\"\n",
              "            title=\"Convert this dataframe to an interactive table.\"\n",
              "            style=\"display:none;\">\n",
              "\n",
              "  <svg xmlns=\"http://www.w3.org/2000/svg\" height=\"24px\" viewBox=\"0 -960 960 960\">\n",
              "    <path d=\"M120-120v-720h720v720H120Zm60-500h600v-160H180v160Zm220 220h160v-160H400v160Zm0 220h160v-160H400v160ZM180-400h160v-160H180v160Zm440 0h160v-160H620v160ZM180-180h160v-160H180v160Zm440 0h160v-160H620v160Z\"/>\n",
              "  </svg>\n",
              "    </button>\n",
              "\n",
              "  <style>\n",
              "    .colab-df-container {\n",
              "      display:flex;\n",
              "      gap: 12px;\n",
              "    }\n",
              "\n",
              "    .colab-df-convert {\n",
              "      background-color: #E8F0FE;\n",
              "      border: none;\n",
              "      border-radius: 50%;\n",
              "      cursor: pointer;\n",
              "      display: none;\n",
              "      fill: #1967D2;\n",
              "      height: 32px;\n",
              "      padding: 0 0 0 0;\n",
              "      width: 32px;\n",
              "    }\n",
              "\n",
              "    .colab-df-convert:hover {\n",
              "      background-color: #E2EBFA;\n",
              "      box-shadow: 0px 1px 2px rgba(60, 64, 67, 0.3), 0px 1px 3px 1px rgba(60, 64, 67, 0.15);\n",
              "      fill: #174EA6;\n",
              "    }\n",
              "\n",
              "    .colab-df-buttons div {\n",
              "      margin-bottom: 4px;\n",
              "    }\n",
              "\n",
              "    [theme=dark] .colab-df-convert {\n",
              "      background-color: #3B4455;\n",
              "      fill: #D2E3FC;\n",
              "    }\n",
              "\n",
              "    [theme=dark] .colab-df-convert:hover {\n",
              "      background-color: #434B5C;\n",
              "      box-shadow: 0px 1px 3px 1px rgba(0, 0, 0, 0.15);\n",
              "      filter: drop-shadow(0px 1px 2px rgba(0, 0, 0, 0.3));\n",
              "      fill: #FFFFFF;\n",
              "    }\n",
              "  </style>\n",
              "\n",
              "    <script>\n",
              "      const buttonEl =\n",
              "        document.querySelector('#df-3e1ac39a-f937-4abb-8fc0-499bc0445009 button.colab-df-convert');\n",
              "      buttonEl.style.display =\n",
              "        google.colab.kernel.accessAllowed ? 'block' : 'none';\n",
              "\n",
              "      async function convertToInteractive(key) {\n",
              "        const element = document.querySelector('#df-3e1ac39a-f937-4abb-8fc0-499bc0445009');\n",
              "        const dataTable =\n",
              "          await google.colab.kernel.invokeFunction('convertToInteractive',\n",
              "                                                    [key], {});\n",
              "        if (!dataTable) return;\n",
              "\n",
              "        const docLinkHtml = 'Like what you see? Visit the ' +\n",
              "          '<a target=\"_blank\" href=https://colab.research.google.com/notebooks/data_table.ipynb>data table notebook</a>'\n",
              "          + ' to learn more about interactive tables.';\n",
              "        element.innerHTML = '';\n",
              "        dataTable['output_type'] = 'display_data';\n",
              "        await google.colab.output.renderOutput(dataTable, element);\n",
              "        const docLink = document.createElement('div');\n",
              "        docLink.innerHTML = docLinkHtml;\n",
              "        element.appendChild(docLink);\n",
              "      }\n",
              "    </script>\n",
              "  </div>\n",
              "\n",
              "\n",
              "<div id=\"df-b9b5965c-e5ce-484d-97ce-224421218a8b\">\n",
              "  <button class=\"colab-df-quickchart\" onclick=\"quickchart('df-b9b5965c-e5ce-484d-97ce-224421218a8b')\"\n",
              "            title=\"Suggest charts\"\n",
              "            style=\"display:none;\">\n",
              "\n",
              "<svg xmlns=\"http://www.w3.org/2000/svg\" height=\"24px\"viewBox=\"0 0 24 24\"\n",
              "     width=\"24px\">\n",
              "    <g>\n",
              "        <path d=\"M19 3H5c-1.1 0-2 .9-2 2v14c0 1.1.9 2 2 2h14c1.1 0 2-.9 2-2V5c0-1.1-.9-2-2-2zM9 17H7v-7h2v7zm4 0h-2V7h2v10zm4 0h-2v-4h2v4z\"/>\n",
              "    </g>\n",
              "</svg>\n",
              "  </button>\n",
              "\n",
              "<style>\n",
              "  .colab-df-quickchart {\n",
              "      --bg-color: #E8F0FE;\n",
              "      --fill-color: #1967D2;\n",
              "      --hover-bg-color: #E2EBFA;\n",
              "      --hover-fill-color: #174EA6;\n",
              "      --disabled-fill-color: #AAA;\n",
              "      --disabled-bg-color: #DDD;\n",
              "  }\n",
              "\n",
              "  [theme=dark] .colab-df-quickchart {\n",
              "      --bg-color: #3B4455;\n",
              "      --fill-color: #D2E3FC;\n",
              "      --hover-bg-color: #434B5C;\n",
              "      --hover-fill-color: #FFFFFF;\n",
              "      --disabled-bg-color: #3B4455;\n",
              "      --disabled-fill-color: #666;\n",
              "  }\n",
              "\n",
              "  .colab-df-quickchart {\n",
              "    background-color: var(--bg-color);\n",
              "    border: none;\n",
              "    border-radius: 50%;\n",
              "    cursor: pointer;\n",
              "    display: none;\n",
              "    fill: var(--fill-color);\n",
              "    height: 32px;\n",
              "    padding: 0;\n",
              "    width: 32px;\n",
              "  }\n",
              "\n",
              "  .colab-df-quickchart:hover {\n",
              "    background-color: var(--hover-bg-color);\n",
              "    box-shadow: 0 1px 2px rgba(60, 64, 67, 0.3), 0 1px 3px 1px rgba(60, 64, 67, 0.15);\n",
              "    fill: var(--button-hover-fill-color);\n",
              "  }\n",
              "\n",
              "  .colab-df-quickchart-complete:disabled,\n",
              "  .colab-df-quickchart-complete:disabled:hover {\n",
              "    background-color: var(--disabled-bg-color);\n",
              "    fill: var(--disabled-fill-color);\n",
              "    box-shadow: none;\n",
              "  }\n",
              "\n",
              "  .colab-df-spinner {\n",
              "    border: 2px solid var(--fill-color);\n",
              "    border-color: transparent;\n",
              "    border-bottom-color: var(--fill-color);\n",
              "    animation:\n",
              "      spin 1s steps(1) infinite;\n",
              "  }\n",
              "\n",
              "  @keyframes spin {\n",
              "    0% {\n",
              "      border-color: transparent;\n",
              "      border-bottom-color: var(--fill-color);\n",
              "      border-left-color: var(--fill-color);\n",
              "    }\n",
              "    20% {\n",
              "      border-color: transparent;\n",
              "      border-left-color: var(--fill-color);\n",
              "      border-top-color: var(--fill-color);\n",
              "    }\n",
              "    30% {\n",
              "      border-color: transparent;\n",
              "      border-left-color: var(--fill-color);\n",
              "      border-top-color: var(--fill-color);\n",
              "      border-right-color: var(--fill-color);\n",
              "    }\n",
              "    40% {\n",
              "      border-color: transparent;\n",
              "      border-right-color: var(--fill-color);\n",
              "      border-top-color: var(--fill-color);\n",
              "    }\n",
              "    60% {\n",
              "      border-color: transparent;\n",
              "      border-right-color: var(--fill-color);\n",
              "    }\n",
              "    80% {\n",
              "      border-color: transparent;\n",
              "      border-right-color: var(--fill-color);\n",
              "      border-bottom-color: var(--fill-color);\n",
              "    }\n",
              "    90% {\n",
              "      border-color: transparent;\n",
              "      border-bottom-color: var(--fill-color);\n",
              "    }\n",
              "  }\n",
              "</style>\n",
              "\n",
              "  <script>\n",
              "    async function quickchart(key) {\n",
              "      const quickchartButtonEl =\n",
              "        document.querySelector('#' + key + ' button');\n",
              "      quickchartButtonEl.disabled = true;  // To prevent multiple clicks.\n",
              "      quickchartButtonEl.classList.add('colab-df-spinner');\n",
              "      try {\n",
              "        const charts = await google.colab.kernel.invokeFunction(\n",
              "            'suggestCharts', [key], {});\n",
              "      } catch (error) {\n",
              "        console.error('Error during call to suggestCharts:', error);\n",
              "      }\n",
              "      quickchartButtonEl.classList.remove('colab-df-spinner');\n",
              "      quickchartButtonEl.classList.add('colab-df-quickchart-complete');\n",
              "    }\n",
              "    (() => {\n",
              "      let quickchartButtonEl =\n",
              "        document.querySelector('#df-b9b5965c-e5ce-484d-97ce-224421218a8b button');\n",
              "      quickchartButtonEl.style.display =\n",
              "        google.colab.kernel.accessAllowed ? 'block' : 'none';\n",
              "    })();\n",
              "  </script>\n",
              "</div>\n",
              "\n",
              "    </div>\n",
              "  </div>\n"
            ],
            "application/vnd.google.colaboratory.intrinsic+json": {
              "type": "dataframe",
              "variable_name": "all_df",
              "summary": "{\n  \"name\": \"all_df\",\n  \"rows\": 50000,\n  \"fields\": [\n    {\n      \"column\": \"text\",\n      \"properties\": {\n        \"dtype\": \"string\",\n        \"num_unique_values\": 49582,\n        \"samples\": [\n          \"The producers of this film should be sued for the misrepresentation of copyrighted materials, namely the Advanced Dungeons & Dragons Players' Handbook. Fear and ignorance breed the sort of mindless propaganda that inspire garbage like this film. If any of you have any doubts about the innocence of Dungeons & Dragons, why don't you go to your local hobby store and see about sitting in with a gaming group, so you can see for yourself that D&D is nothing to be afraid of.\",\n          \"The plot starts out interesting, however, towards the end too many die in too short a time, turning the thriller-mystery aspect of the story into a slaughter.<br /><br />The only true highlights were Adam Beach and J\\u00fcrgen Prochnow, who were once again their excellent selves. Nice try with an inappropriate last third, though a good ending.\",\n          \"I saw this movie on television as SCREAMERS and loved it. I heard an interesting story about this film. When Roger Corman released it to drive-ins in the summer of 1981, his trailer department sent out an advance trailer which was not actually footage from the film. It was allegedly footage of a naked woman being chased around a laboratory set by a monster. During the film's opening at drive-in's, irate customers complained the did not see the movie they paid to see. Theater owners called Corman and said their customers felt ripped off. So Corman had to run off copies of the footage, and send the positive film to theater owners to splice into the film themselves. Since the footage was never part of the film negative, it has not appeared in any video, DVD or television broadcast. Has anyone ever seen this footage? Anyone who saw this film at a drive-in in the summer of 1981 remember this?\"\n        ],\n        \"semantic_type\": \"\",\n        \"description\": \"\"\n      }\n    },\n    {\n      \"column\": \"label\",\n      \"properties\": {\n        \"dtype\": \"number\",\n        \"std\": 0,\n        \"min\": 0,\n        \"max\": 1,\n        \"num_unique_values\": 2,\n        \"samples\": [\n          1,\n          0\n        ],\n        \"semantic_type\": \"\",\n        \"description\": \"\"\n      }\n    }\n  ]\n}"
            }
          },
          "metadata": {},
          "execution_count": 89
        }
      ]
    },
    {
      "cell_type": "markdown",
      "source": [
        "可以看一下兩個類別分布的比例"
      ],
      "metadata": {
        "id": "-15N5wI3zmJ_"
      },
      "id": "-15N5wI3zmJ_"
    },
    {
      "cell_type": "code",
      "source": [
        "all_df.label.value_counts() / len(all_df)"
      ],
      "metadata": {
        "colab": {
          "base_uri": "https://localhost:8080/"
        },
        "id": "mSQjyAzaoAJD",
        "outputId": "bbe7637a-9588-46d9-9c51-e91a9e4da10f"
      },
      "id": "mSQjyAzaoAJD",
      "execution_count": null,
      "outputs": [
        {
          "output_type": "execute_result",
          "data": {
            "text/plain": [
              "label\n",
              "0    0.5\n",
              "1    0.5\n",
              "Name: count, dtype: float64"
            ]
          },
          "metadata": {},
          "execution_count": 90
        }
      ]
    },
    {
      "cell_type": "code",
      "source": [
        "from sklearn.model_selection import train_test_split\n",
        "# Split the combined dataset into training and a temp dataset (80% for training)\n",
        "train_df, temp_data = train_test_split(all_df, random_state=1111, train_size=0.8)\n",
        "# Further split the temp dataset into development and testing datasets evenly (50% each)\n",
        "dev_df, test_df = train_test_split(temp_data, random_state=1111, train_size=0.5)\n",
        "print('# of train_df:', len(train_df))\n",
        "print('# of dev_df:', len(dev_df))\n",
        "print('# of test_df data:', len(test_df))\n",
        "\n",
        "# save data\n",
        "train_df.to_csv('./train.tsv', sep='\\t', index=False)\n",
        "dev_df.to_csv('./val.tsv', sep='\\t', index=False)\n",
        "test_df.to_csv('./test.tsv', sep='\\t', index=False)"
      ],
      "metadata": {
        "colab": {
          "base_uri": "https://localhost:8080/"
        },
        "id": "RhM_od5-Tpkc",
        "outputId": "aaab30fe-192d-4c8c-afbd-12ff405cb873"
      },
      "id": "RhM_od5-Tpkc",
      "execution_count": null,
      "outputs": [
        {
          "output_type": "stream",
          "name": "stdout",
          "text": [
            "# of train_df: 40000\n",
            "# of dev_df: 5000\n",
            "# of test_df data: 5000\n"
          ]
        }
      ]
    },
    {
      "cell_type": "markdown",
      "metadata": {
        "id": "le1XiOWDXyRE"
      },
      "source": [
        "### 自定義 Dataset，將 tokenzie 的步驟放進去"
      ],
      "id": "le1XiOWDXyRE"
    },
    {
      "cell_type": "markdown",
      "source": [
        "* TODO4: 完成 tokenize()\n",
        "> 我們會需要拿到該句話的 input_ids、attenntion_mask 及 token_type_ids。"
      ],
      "metadata": {
        "id": "BdDpKblL0aU9"
      },
      "id": "BdDpKblL0aU9"
    },
    {
      "cell_type": "code",
      "execution_count": null,
      "metadata": {
        "id": "yvkBgVIhXyRF"
      },
      "outputs": [],
      "source": [
        "import torch\n",
        "from torch.utils.data import Dataset, DataLoader\n",
        "from transformers import AutoTokenizer\n",
        "import torch\n",
        "import torch.nn.functional as Fun\n",
        "\n",
        "# 使用PyTorch的Dataset來構建一個字定義資料加載器\n",
        "class CustomDataset(Dataset):\n",
        "  def __init__(self, mode, df, specify, args):\n",
        "    assert mode in [\"train\", \"val\", \"test\"]  # 一般會切三份\n",
        "    self.mode = mode\n",
        "    self.df = df\n",
        "    self.specify = specify # 指定用於預測的數據列名\n",
        "    if self.mode != 'test':\n",
        "      self.label = df['label'] #非測試模式需要標籤\n",
        "    self.tokenizer = AutoTokenizer.from_pretrained(args[\"config\"])\n",
        "    self.max_len = args[\"max_len\"]\n",
        "    self.num_class = args[\"num_class\"]\n",
        "\n",
        "  def __len__(self):\n",
        "    return len(self.df) #返回數據集的大小\n",
        "\n",
        "  # 獲取單個數據樣本\n",
        "  def __getitem__(self, index):\n",
        "\n",
        "    sentence = str(self.df[self.specify][index])\n",
        "    ids, mask, token_type_ids = self.tokenize(sentence)\n",
        "\n",
        "\n",
        "    if self.mode == \"test\":\n",
        "        return torch.tensor(ids, dtype=torch.long), torch.tensor(mask, dtype=torch.long), \\\n",
        "            torch.tensor(token_type_ids, dtype=torch.long)\n",
        "    else:\n",
        "        if self.num_class > 2:  #根據類別決定返回格式\n",
        "          return torch.tensor(ids, dtype=torch.long), torch.tensor(mask, dtype=torch.long), \\\n",
        "            torch.tensor(token_type_ids, dtype=torch.long), self.one_hot_label(self.label[index])\n",
        "        else:\n",
        "          return torch.tensor(ids, dtype=torch.long), torch.tensor(mask, dtype=torch.long), \\\n",
        "            torch.tensor(token_type_ids, dtype=torch.long), torch.tensor(self.label[index], dtype=torch.long)\n",
        "\n",
        "  # 若類別數超過2，將標籤轉換為one_hot編碼\n",
        "  def one_hot_label(self, label):\n",
        "    return Fun.one_hot(torch.tensor(label), num_classes = self.num_class)\n",
        "\n",
        "\n",
        "  def tokenize(self,input_text):\n",
        "  #使用 Bert tokenizer 對文本進行分詞和編碼\n",
        "      encoded = self.tokenizer.encode_plus(\n",
        "          input_text,                           # 輸入文本\n",
        "          add_special_tokens=True,              #添加特殊符號如CLS\n",
        "          max_length=self.max_len,              # 設定最大長度，超過會被截斷\n",
        "          pad_to_max_length=True,               # 填充到最大長度\n",
        "          return_attention_mask=True,\n",
        "          return_tensors='pt',                  # 返回 PyTorch tensors\n",
        "          truncation=True,                      # 截斷文本以符合最大長度\n",
        "          return_token_type_ids=True            # 返回 token id\n",
        "      )\n",
        "\n",
        "      # 取得 tokens, mask 和 token_type_ids\n",
        "      input_ids = encoded['input_ids'][0]\n",
        "      attention_mask = encoded['attention_mask'][0]\n",
        "      token_type_ids = encoded['token_type_ids'][0]\n",
        "\n",
        "      return input_ids, attention_mask, token_type_ids\n"
      ],
      "id": "yvkBgVIhXyRF"
    },
    {
      "cell_type": "markdown",
      "source": [
        "## 建立模型\n",
        "\n",
        "*   自己重新寫分類模型 (不可直接抄襲參考來源) ([參考來源](https://github.com/huggingface/transformers/blob/v4.39.1/src/transformers/models/bert/modeling_bert.py#L1519))\n",
        "*   模型訓練與評估的程式碼大致上相同，差別在於「模型是否繼續進行梯度下降」，以及「模型參數是否繼續訓練」\n",
        "\n"
      ],
      "metadata": {
        "id": "RQsY2rjue4Tm"
      },
      "id": "RQsY2rjue4Tm"
    },
    {
      "cell_type": "markdown",
      "source": [
        "* TODO5: 完成 BertClassifier\n",
        "> - 在初始化的地方加上dropout, linear layer（等於一層NN），其維度為類別數量；\n",
        "> - 在forward function中把輸入值放進對應層數（bert -> dropout -> classifier）；\n",
        "    \n",
        "    > 請注意我們只取用 bert 輸出的 sentence representation 去做分類"
      ],
      "metadata": {
        "id": "7Dgb-mW30jhI"
      },
      "id": "7Dgb-mW30jhI"
    },
    {
      "cell_type": "code",
      "execution_count": null,
      "metadata": {
        "id": "suyj5WLJXyQ7"
      },
      "outputs": [],
      "source": [
        "import torch.nn as nn\n",
        "# BERT Model\n",
        "class BertClassifier(BertPreTrainedModel):\n",
        "  def __init__(self, config, args):\n",
        "    super(BertClassifier, self).__init__(config)\n",
        "    self.bert = BertModel(config)                                     #初始化 BERT Model\n",
        "    self.num_labels = args[\"num_class\"]                               #類別數量\n",
        "    self.dropout = nn.Dropout(args.get(\"dropout\",0.5))                #dropout層，減少過擬合\n",
        "    self.classifier = nn.Linear(config.hidden_size, self.num_labels)  #初始化一個線性層，用於從 BERT 的輸出到最終的類別預測\n",
        "    self.init_weights()                                              #初始化模型權重\n",
        "\n",
        "\n",
        "  def forward(self, input_ids=None, attention_mask=None, token_type_ids=None, position_ids=None,\n",
        "              head_mask=None, inputs_embeds=None, labels=None, output_attentions=None,\n",
        "              output_hidden_states=None, return_dict=None):\n",
        "      return_dict = return_dict if return_dict is not None else self.config.use_return_dict\n",
        "\n",
        "        # bert output\n",
        "      outputs = self.bert(\n",
        "            input_ids = input_ids,\n",
        "            attention_mask=attention_mask,\n",
        "            token_type_ids=token_type_ids,\n",
        "            return_dict=True\n",
        "        )\n",
        "\n",
        "      # 從輸出中獲取 [CLS] 標記的輸出，用於分類的任務\n",
        "      pooled_output = outputs.pooler_output\n",
        "      pooled_output = self.dropout(pooled_output) #在經過線性層之前應用 Dropout\n",
        "      logits = self.classifier(pooled_output) #通過線性層得到最終的 logits\n",
        "\n",
        "      return logits"
      ],
      "id": "suyj5WLJXyQ7"
    },
    {
      "cell_type": "markdown",
      "source": [
        "這是已經寫好的evaluate()，train()會跟他很像\n",
        "\n",
        "(# 在評估模型的時候，不需要梯度下降)"
      ],
      "metadata": {
        "id": "fmr97mUu2Zmt"
      },
      "id": "fmr97mUu2Zmt"
    },
    {
      "cell_type": "code",
      "execution_count": null,
      "metadata": {
        "id": "_QVJaIv5XyQ9"
      },
      "outputs": [],
      "source": [
        "# evaluate dataloader\n",
        "def evaluate(model, data_loader, device):\n",
        "  val_loss, val_acc, val_f1, val_rec, val_prec = 0.0, 0.0, 0.0, 0.0, 0.0\n",
        "  step_count = 0\n",
        "  loss_fct = torch.nn.CrossEntropyLoss()\n",
        "  model.eval()\n",
        "  with torch.no_grad():\n",
        "    loop = tqdm((data_loader), total=len(data_loader), leave=True, colour='blue')\n",
        "    for data in loop:\n",
        "      ids, masks, token_type_ids, labels = [t.to(device) for t in data]\n",
        "\n",
        "      logits = model(input_ids = ids,\n",
        "              token_type_ids = token_type_ids,\n",
        "              attention_mask = masks)\n",
        "      acc, f1, rec, prec = cal_metrics(get_pred(logits), labels)\n",
        "      loss = loss_fct(logits, labels)\n",
        "\n",
        "      val_loss += loss.item()\n",
        "      val_acc += acc\n",
        "      val_f1 += f1\n",
        "      val_rec += rec\n",
        "      val_prec += prec\n",
        "      step_count+=1\n",
        "\n",
        "    val_loss = val_loss / step_count\n",
        "    val_acc = val_acc / step_count\n",
        "    val_f1 = val_f1 / step_count\n",
        "    val_rec = val_rec / step_count\n",
        "    val_prec = val_prec / step_count\n",
        "\n",
        "  return val_loss, val_acc, val_f1, val_rec, val_prec"
      ],
      "id": "_QVJaIv5XyQ9"
    },
    {
      "cell_type": "markdown",
      "metadata": {
        "id": "4QTsH978XyRG"
      },
      "source": [
        "## 開始訓練"
      ],
      "id": "4QTsH978XyRG"
    },
    {
      "cell_type": "markdown",
      "metadata": {
        "id": "sAaBnWzTXyQ_"
      },
      "source": [
        "### 定義你的 Hyperparameters\n",
        "\n",
        "* 如果電腦的記憶體不夠可以試著減少 batch_size\n",
        "* 因為我們採用現有的模型去 fine-tune，所以一般不需要設太多 epochs\n",
        "* config 就是我們所使用的現有模型，可以自己找適合的做替換\n",
        "* 這份 work 是做二分類，所以 num_class 為 2\n",
        "* 如果你的模型 overfit 了，可以把 dropout 調高\n",
        "* 可以試著調高或調低 learning_rate，這會影響他的學習速度（跨步的大小）\n",
        "* 你應該先檢閱你的資料再來決定 max_len （但 BERT 最大只吃到 512）"
      ],
      "id": "sAaBnWzTXyQ_"
    },
    {
      "cell_type": "code",
      "source": [
        "from datetime import datetime\n",
        "parameters = {\n",
        "    \"num_class\": 2,\n",
        "    \"time\": str(datetime.now()).replace(\" \", \"_\"),\n",
        "    # Hyperparameters\n",
        "    \"model_name\": 'BERT',\n",
        "    \"config\": 'bert-base-uncased',\n",
        "    \"learning_rate\": 0.000082,\n",
        "    \"epochs\": 3,\n",
        "    \"max_len\": 512,\n",
        "    \"batch_size\": 16,\n",
        "    \"dropout\": 0.7,\n",
        "}"
      ],
      "metadata": {
        "id": "Jaui0JY50LR_"
      },
      "id": "Jaui0JY50LR_",
      "execution_count": null,
      "outputs": []
    },
    {
      "cell_type": "markdown",
      "source": [
        "### 載入資料\n",
        "\n",
        "- 讀入資料並傳入自訂的 Dataset 以自訂資料格式\n",
        "\n",
        "- 之後傳入 DataLoader 以利後續訓練進行（將資料批次化以免記憶體爆掉 ）\n",
        "\n",
        "    (# 你可以決定要 sample 部分資料還是全部都丟進去)"
      ],
      "metadata": {
        "id": "IJpQ20GSZOoV"
      },
      "id": "IJpQ20GSZOoV"
    },
    {
      "cell_type": "code",
      "execution_count": null,
      "metadata": {
        "id": "W0t0NVOAXyRG"
      },
      "outputs": [],
      "source": [
        "import transformers\n",
        "import pandas as pd\n",
        "\n",
        "# load training data\n",
        "train_df = pd.read_csv('./train.tsv', sep = '\\t').sample(4000).reset_index(drop=True)\n",
        "train_dataset = CustomDataset('train', train_df, 'text', parameters)\n",
        "train_loader = DataLoader(train_dataset, batch_size=parameters['batch_size'], shuffle=True)\n",
        "\n",
        "# load validation data\n",
        "val_df = pd.read_csv('./val.tsv', sep = '\\t').sample(500).reset_index(drop=True)\n",
        "val_dataset = CustomDataset('val', val_df, 'text', parameters)\n",
        "val_loader = DataLoader(val_dataset, batch_size=parameters['batch_size'], shuffle=True)"
      ],
      "id": "W0t0NVOAXyRG"
    },
    {
      "cell_type": "markdown",
      "source": [
        "### 初始化模型\n",
        "*   載入模型（這邊會使用已經訓練過的模型，Fine-tune 我們的資料集）\n",
        "*   定義 Optimization\n",
        "  *   通常用 Adam 就可以了，你也可以換SGD之類的試看看\n",
        "  *   可以自己看需不需要加 scheduler（可以自己寫一個 function，也可以直接套用現有的function）\n",
        "  \n",
        "  ［請記得 pytorch 中是以 step 去計算，想要用 epoch 去訂定需自行換算 ］\n",
        "\n",
        "\n"
      ],
      "metadata": {
        "id": "nMZ8wEyjab68"
      },
      "id": "nMZ8wEyjab68"
    },
    {
      "cell_type": "code",
      "source": [
        "transformers.logging.set_verbosity_error() # 關閉警告消息\n",
        "\n",
        "device = torch.device(\"cuda\" if torch.cuda.is_available() else \"cpu\")\n",
        "# 從預訓練的 BERT 模型加載自定義的分類器，並將其移動到指定的設備（GPU或CPU）\n",
        "model = BertClassifier.from_pretrained(parameters['config'], parameters).to(device)\n",
        "loss_fct = torch.nn.CrossEntropyLoss() # 使用 cross entrophy loss\n",
        "# 定義優化器，這裡使用 Adam 優化演算法\n",
        "# 設置學習率，以及 beta 和 epsilon 參數（這些參數控制優化器的行為）\n",
        "optimizer = torch.optim.Adam(model.parameters(), lr=parameters['learning_rate'], betas=(0.9, 0.98), eps=1e-9)\n",
        "# 計算總的訓練步數，為訓練輪數乘以訓練數據加載器中的批次數量\n",
        "total_steps = len(train_loader) * parameters[\"epochs\"]\n",
        "# 設定帶預熱的線性學習率調度器\n",
        "# 預熱步驟通常是訓練開始的一部分，在這期間學習率逐漸增加到初始設置的學習率\n",
        "scheduler = get_linear_schedule_with_warmup(optimizer,\n",
        "                                            num_warmup_steps=int(total_steps * 0.1),\n",
        "                                            num_training_steps=total_steps)"
      ],
      "metadata": {
        "id": "5D7NzvuGaZfY"
      },
      "id": "5D7NzvuGaZfY",
      "execution_count": null,
      "outputs": []
    },
    {
      "cell_type": "markdown",
      "source": [
        "* 因為是做分類任務，所以這裡用 CrossEntrophyLoss\n",
        "* 由於在 pytorch 中，CrossEntrophyLoss 吃的 input 是未經 softmax 的值，所以在模型中不必加入 softmax\n",
        "* 但若在後期想取得各類別實際機率就要經過 softmax 轉換\n",
        "* logits 的數值不等於機率 ！！但一般而言，logits 中較大者會與經過 softmax 轉換後的結果一致"
      ],
      "metadata": {
        "id": "LmyDpsHc3rRN"
      },
      "id": "LmyDpsHc3rRN"
    },
    {
      "cell_type": "markdown",
      "source": [
        "* TODO6: 完成訓練\n",
        "   >可參照 evaluate() 並稍作調整以完成訓練"
      ],
      "metadata": {
        "id": "wtThctN23VIS"
      },
      "id": "wtThctN23VIS"
    },
    {
      "cell_type": "code",
      "execution_count": null,
      "metadata": {
        "id": "BUX_aw7hXyRH",
        "colab": {
          "base_uri": "https://localhost:8080/"
        },
        "outputId": "5a8cd909-57e4-4f03-e27d-7b652da6e0de"
      },
      "outputs": [
        {
          "output_type": "stream",
          "name": "stderr",
          "text": [
            "Epoch 1/3: 100%|██████████| 250/250 [05:59<00:00,  1.44s/it]\n",
            "100%|\u001b[34m██████████\u001b[0m| 32/32 [00:16<00:00,  1.93it/s]\n"
          ]
        },
        {
          "output_type": "stream",
          "name": "stdout",
          "text": [
            "[epoch 1] cost time: 376.0096 s\n",
            "         loss     acc     f1      rec    prec\n",
            "train | 0.4030, 0.8020, 0.7991, 0.8020, 0.8283\n",
            "val  | 0.1642, 0.9492, 0.9490, 0.9492, 0.9544\n",
            "\n"
          ]
        },
        {
          "output_type": "stream",
          "name": "stderr",
          "text": [
            "Epoch 2/3: 100%|██████████| 250/250 [05:57<00:00,  1.43s/it]\n",
            "100%|\u001b[34m██████████\u001b[0m| 32/32 [00:16<00:00,  1.93it/s]\n"
          ]
        },
        {
          "output_type": "stream",
          "name": "stdout",
          "text": [
            "[epoch 2] cost time: 374.1910 s\n",
            "         loss     acc     f1      rec    prec\n",
            "train | 0.1717, 0.9447, 0.9448, 0.9447, 0.9525\n",
            "val  | 0.2290, 0.9102, 0.9094, 0.9102, 0.9286\n",
            "\n"
          ]
        },
        {
          "output_type": "stream",
          "name": "stderr",
          "text": [
            "Epoch 3/3: 100%|██████████| 250/250 [05:57<00:00,  1.43s/it]\n",
            "100%|\u001b[34m██████████\u001b[0m| 32/32 [00:16<00:00,  1.93it/s]"
          ]
        },
        {
          "output_type": "stream",
          "name": "stdout",
          "text": [
            "[epoch 3] cost time: 374.1745 s\n",
            "         loss     acc     f1      rec    prec\n",
            "train | 0.0520, 0.9852, 0.9852, 0.9852, 0.9870\n",
            "val  | 0.1611, 0.9434, 0.9430, 0.9434, 0.9509\n",
            "\n"
          ]
        },
        {
          "output_type": "stream",
          "name": "stderr",
          "text": [
            "\n"
          ]
        }
      ],
      "source": [
        "import time\n",
        "\n",
        "# 初始化存儲訓練和驗證階段性能指標的字典\n",
        "metrics = ['loss', 'acc', 'f1', 'rec', 'prec']\n",
        "mode = ['train_', 'val_']\n",
        "record = {s+m :[] for s in mode for m in metrics}\n",
        "\n",
        "# 開始訓練過程\n",
        "for epoch in range(parameters[\"epochs\"]):\n",
        "\n",
        "    st_time = time.time()\n",
        "    train_loss, train_acc, train_f1, train_rec, train_prec = 0.0, 0.0, 0.0, 0.0, 0.0\n",
        "    step_count = 0\n",
        "\n",
        "    model.train()\n",
        "    for batch in tqdm(train_loader, desc=f\"Epoch {epoch+1}/{parameters['epochs']}\"):\n",
        "        ids, masks, token_type_ids, labels = [b.to(device) for b in batch]\n",
        "\n",
        "        optimizer.zero_grad()  # 清除之前的梯度\n",
        "\n",
        "        logits = model(input_ids=ids, attention_mask=masks, token_type_ids=token_type_ids)\n",
        "\n",
        "        loss = loss_fct(logits.view(-1, parameters['num_class']), labels.view(-1))\n",
        "        loss.backward()           # 反向傳播計算梯度\n",
        "        optimizer.step()          # 更新模型參數\n",
        "        scheduler.step()          # 更新學習率\n",
        "        preds = get_pred(logits)  # 獲取預測結果\n",
        "\n",
        "        # 累加損失和計算準確率、F1分數、召回率、精確率\n",
        "        train_loss += loss.item()\n",
        "        acc, f1, rec, prec = cal_metrics(preds, labels)\n",
        "        train_acc += acc\n",
        "        train_f1 += f1\n",
        "        train_rec += rec\n",
        "        train_prec += prec\n",
        "        step_count += 1\n",
        "\n",
        "\n",
        "    # 每個epoch結束後在驗證集上評估模型性能\n",
        "    val_loss, val_acc, val_f1, val_rec, val_prec = evaluate(model, val_loader, device)\n",
        "    # 計算平均損失和性能指標\n",
        "    train_loss = train_loss / step_count\n",
        "    train_acc = train_acc / step_count\n",
        "    train_f1 = train_f1 / step_count\n",
        "    train_rec = train_rec / step_count\n",
        "    train_prec = train_prec / step_count\n",
        "\n",
        "    print('[epoch %d] cost time: %.4f s'%(epoch + 1, time.time() - st_time))\n",
        "    print('         loss     acc     f1      rec    prec')\n",
        "    print('train | %.4f, %.4f, %.4f, %.4f, %.4f'%(train_loss, train_acc, train_f1, train_rec, train_prec))\n",
        "    print('val  | %.4f, %.4f, %.4f, %.4f, %.4f\\n'%(val_loss, val_acc, val_f1, val_rec, val_prec))\n",
        "\n",
        "     # 紀錄每個訓練epoch的性能指標\n",
        "    record['train_loss'].append(train_loss)\n",
        "    record['train_acc'].append(train_acc)\n",
        "    record['train_f1'].append(train_f1)\n",
        "    record['train_rec'].append(train_rec)\n",
        "    record['train_prec'].append(train_prec)\n",
        "\n",
        "    record['val_loss'].append(val_loss)\n",
        "    record['val_acc'].append(val_acc)\n",
        "    record['val_f1'].append(val_f1)\n",
        "    record['val_rec'].append(val_rec)\n",
        "    record['val_prec'].append(val_prec)"
      ],
      "id": "BUX_aw7hXyRH"
    },
    {
      "cell_type": "code",
      "execution_count": null,
      "metadata": {
        "id": "YHTX3ycLXyRH",
        "colab": {
          "base_uri": "https://localhost:8080/"
        },
        "outputId": "21431ee0-63c4-4717-e6d6-bd27f044125d"
      },
      "outputs": [
        {
          "output_type": "stream",
          "name": "stdout",
          "text": [
            "Model saved to ==> ./bert.pt\n"
          ]
        }
      ],
      "source": [
        "# save model\n",
        "save_checkpoint('./bert.pt' , model)"
      ],
      "id": "YHTX3ycLXyRH"
    },
    {
      "cell_type": "markdown",
      "source": [
        "### 畫圖"
      ],
      "metadata": {
        "id": "RHzv2n2E5Zex"
      },
      "id": "RHzv2n2E5Zex"
    },
    {
      "cell_type": "code",
      "execution_count": null,
      "metadata": {
        "id": "HtQra69-XyRI"
      },
      "outputs": [],
      "source": [
        "# 畫出learning curve\n",
        "import matplotlib.pyplot as plt\n",
        "def draw_pics(record, name, img_save=False, show=False):\n",
        "    x_ticks = range(1, parameters[\"epochs\"]+1)\n",
        "\n",
        "    plt.figure(figsize=(6, 3))\n",
        "\n",
        "    plt.plot(x_ticks, record['train_'+name], '-o', color='lightskyblue',\n",
        "             markeredgecolor=\"teal\", markersize=3, markeredgewidth=1, label = 'Train')\n",
        "    plt.plot(x_ticks, record['val_'+name], '-o', color='pink',\n",
        "             markeredgecolor=\"salmon\", markersize=3, markeredgewidth=1, label = 'Val')\n",
        "    plt.grid(color='lightgray', linestyle='--', linewidth=1)\n",
        "\n",
        "    plt.title('Model', fontsize=14)\n",
        "    plt.ylabel(name, fontsize=12)\n",
        "    plt.xlabel('Epoch', fontsize=12)\n",
        "    plt.xticks(x_ticks, fontsize=12)\n",
        "    plt.yticks(fontsize=12)\n",
        "    plt.legend(loc='lower right' if not name.lower().endswith('loss') else 'upper right')\n",
        "\n",
        "    if img_save:\n",
        "        plt.savefig(name+'.png', transparent=False, dpi=300)\n",
        "    if show:\n",
        "        plt.show()\n",
        "\n",
        "    plt.close()"
      ],
      "id": "HtQra69-XyRI"
    },
    {
      "cell_type": "code",
      "execution_count": null,
      "metadata": {
        "id": "RKEdRFDzXyRI",
        "colab": {
          "base_uri": "https://localhost:8080/",
          "height": 342
        },
        "outputId": "c578ae2e-4969-4527-93c1-ffd14479c38a"
      },
      "outputs": [
        {
          "output_type": "display_data",
          "data": {
            "text/plain": [
              "<Figure size 600x300 with 1 Axes>"
            ],
            "image/png": "[encoded data removed]"
          },
          "metadata": {}
        }
      ],
      "source": [
        "draw_pics(record, 'loss', img_save=False, show=True)"
      ],
      "id": "RKEdRFDzXyRI"
    },
    {
      "cell_type": "code",
      "execution_count": null,
      "metadata": {
        "id": "-gjV5dGCXyRI",
        "colab": {
          "base_uri": "https://localhost:8080/",
          "height": 342
        },
        "outputId": "736d2789-7b31-4aaa-e164-1347966756fd"
      },
      "outputs": [
        {
          "output_type": "display_data",
          "data": {
            "text/plain": [
              "<Figure size 600x300 with 1 Axes>"
            ],
            "image/png": "[encoded data removed]"
          },
          "metadata": {}
        }
      ],
      "source": [
        "draw_pics(record, 'acc', img_save=False, show=True)"
      ],
      "id": "-gjV5dGCXyRI"
    },
    {
      "cell_type": "code",
      "source": [
        "draw_pics(record, 'f1', img_save=False, show=True)"
      ],
      "metadata": {
        "id": "6Ej8ffuKDRwZ",
        "colab": {
          "base_uri": "https://localhost:8080/",
          "height": 342
        },
        "outputId": "f5d73277-1f11-4b5b-b08c-ec6bd52df37b"
      },
      "id": "6Ej8ffuKDRwZ",
      "execution_count": null,
      "outputs": [
        {
          "output_type": "display_data",
          "data": {
            "text/plain": [
              "<Figure size 600x300 with 1 Axes>"
            ],
            "image/png": "[encoded data removed]"
          },
          "metadata": {}
        }
      ]
    },
    {
      "cell_type": "code",
      "source": [
        "draw_pics(record, 'rec', img_save=False, show=True)"
      ],
      "metadata": {
        "id": "F2xU_13LDlWa",
        "colab": {
          "base_uri": "https://localhost:8080/",
          "height": 342
        },
        "outputId": "1c35287b-7e56-46f0-918b-54073ff56ff7"
      },
      "id": "F2xU_13LDlWa",
      "execution_count": null,
      "outputs": [
        {
          "output_type": "display_data",
          "data": {
            "text/plain": [
              "<Figure size 600x300 with 1 Axes>"
            ],
            "image/png": "[encoded data removed]"
          },
          "metadata": {}
        }
      ]
    },
    {
      "cell_type": "code",
      "source": [
        "draw_pics(record, 'prec', img_save=False, show=True)"
      ],
      "metadata": {
        "id": "lNDEyPWJDgIS",
        "colab": {
          "base_uri": "https://localhost:8080/",
          "height": 342
        },
        "outputId": "7fb6dcf2-dd78-479f-a3b3-67f66e22c00b"
      },
      "id": "lNDEyPWJDgIS",
      "execution_count": null,
      "outputs": [
        {
          "output_type": "display_data",
          "data": {
            "text/plain": [
              "<Figure size 600x300 with 1 Axes>"
            ],
            "image/png": "[encoded data removed]"
          },
          "metadata": {}
        }
      ]
    },
    {
      "cell_type": "markdown",
      "metadata": {
        "id": "A6GLT9fOXyRJ"
      },
      "source": [
        "## 預測結果"
      ],
      "id": "A6GLT9fOXyRJ"
    },
    {
      "cell_type": "markdown",
      "metadata": {
        "id": "NXV9nz2RXyRJ"
      },
      "source": [
        "預測單筆（跟評估的程式大同小異）\n",
        "\n",
        "\n"
      ],
      "id": "NXV9nz2RXyRJ"
    },
    {
      "cell_type": "code",
      "execution_count": null,
      "metadata": {
        "id": "BEjRQrsnXyRJ"
      },
      "outputs": [],
      "source": [
        "def Softmax(x):\n",
        "    \"\"\"\n",
        "    計算給定輸入張量 x 的Softmax。\n",
        "    Softmax 函數用於多類別分類的輸出層，將 logits（原始輸出）轉換為概率分佈。\n",
        "\n",
        "    參數:\n",
        "    - x: 一個張量，通常是未經歸一化的預測值或logits。\n",
        "\n",
        "    返回:\n",
        "    - 一個張量，表示 x 中每個元素的Softmax概率值。\n",
        "    \"\"\"\n",
        "    return torch.exp(x) / torch.exp(x).sum()\n",
        "\n",
        "def label2class(label):\n",
        "    \"\"\"\n",
        "    將數字標籤轉換為對應的類別名稱。\n",
        "    這在將模型的預測輸出（通常是數字標籤）轉換為更易於理解的形式時非常有用。\n",
        "\n",
        "    參數:\n",
        "    - label: 數字標籤 (整數)，在這個函數中，0 被映射到 'negative'，1 被映射到 'positive'。\n",
        "\n",
        "    返回:\n",
        "    - 字符串，表示標籤對應的類別名稱。\n",
        "    \"\"\"\n",
        "    l2c = {0:'negative', 1:'positive'}\n",
        "    return l2c[label]"
      ],
      "id": "BEjRQrsnXyRJ"
    },
    {
      "cell_type": "markdown",
      "source": [
        "* TODO7: 完成 predict_one()"
      ],
      "metadata": {
        "id": "8xYoz3EW6m7x"
      },
      "id": "8xYoz3EW6m7x"
    },
    {
      "cell_type": "code",
      "execution_count": null,
      "metadata": {
        "id": "a4D4Z9-8XyRK"
      },
      "outputs": [],
      "source": [
        "# 對單一句子進行預測，返回每個類別的概率及預測的類別\n",
        "def predict_one(query, model):\n",
        "\n",
        "    # 載入tokenizer\n",
        "    tokenizer = AutoTokenizer.from_pretrained(parameters['config'])\n",
        "\n",
        "    # 將文本tokenize\n",
        "    inputs = tokenizer(query, return_tensors=\"pt\", max_length=parameters['max_len'], truncation=True, padding=\"max_length\")\n",
        "    input_ids = inputs['input_ids']\n",
        "    attention_mask = inputs['attention_mask']\n",
        "\n",
        "    # 將數據移動到模型所在設備\n",
        "    input_ids = input_ids.to(device)\n",
        "    attention_mask = attention_mask.to(device)\n",
        "\n",
        "    # 使用模型進行預測\n",
        "    with torch.no_grad():\n",
        "        logits = model(input_ids=input_ids, attention_mask=attention_mask)\n",
        "\n",
        "    # 將logits轉成softmax\n",
        "    probs = Fun.softmax(logits, dim=1)\n",
        "\n",
        "    # 最大值的索引即是類別\n",
        "    _, pred = torch.max(probs, dim=1)\n",
        "    return probs, pred\n"
      ],
      "id": "a4D4Z9-8XyRK"
    },
    {
      "cell_type": "code",
      "execution_count": null,
      "metadata": {
        "id": "egfecB7sXyRK",
        "colab": {
          "base_uri": "https://localhost:8080/"
        },
        "outputId": "24b88a20-81e2-4d54-f8b2-df02d50d76e5"
      },
      "outputs": [
        {
          "output_type": "stream",
          "name": "stdout",
          "text": [
            "Model loaded from <== ./bert.pt\n"
          ]
        }
      ],
      "source": [
        "# you can load model from existing result\n",
        "device = torch.device(\"cuda\" if torch.cuda.is_available() else \"cpu\")\n",
        "# 建立一個初始化模型，採用預訓練模型\n",
        "init_model = BertClassifier.from_pretrained(parameters['config'], parameters)\n",
        "# 從指定文件加載模型權重，然後將模型移至指定的裝置\n",
        "model = load_checkpoint('./bert.pt', init_model, device).to(device)"
      ],
      "id": "egfecB7sXyRK"
    },
    {
      "cell_type": "code",
      "execution_count": null,
      "metadata": {
        "id": "0BowzmKvXyRK",
        "colab": {
          "base_uri": "https://localhost:8080/"
        },
        "outputId": "3de66102-2bd8-4ab9-a0c8-8d0a9b8c1839"
      },
      "outputs": [
        {
          "output_type": "stream",
          "name": "stdout",
          "text": [
            "Predicted class: negative, Probabilities: [[0.9886756  0.01132445]]\n",
            "CPU times: user 89.8 ms, sys: 982 µs, total: 90.8 ms\n",
            "Wall time: 196 ms\n"
          ]
        }
      ],
      "source": [
        "%%time\n",
        "probs, pred = predict_one(\"This movie doesn't attract me\", model)\n",
        "#print(label2class(pred))\n",
        "print(f\"Predicted class: {label2class(pred.item())}, Probabilities: {probs.cpu().numpy()}\")"
      ],
      "id": "0BowzmKvXyRK"
    },
    {
      "cell_type": "markdown",
      "source": [
        "你也可以像 evaluate function一樣，把它寫成 dataloader 的形式"
      ],
      "metadata": {
        "id": "jW7WgMK-5UXJ"
      },
      "id": "jW7WgMK-5UXJ"
    },
    {
      "cell_type": "code",
      "execution_count": null,
      "metadata": {
        "id": "c0s5Da92XyRN"
      },
      "outputs": [],
      "source": [
        "# predict dataloader\n",
        "def predict(data_loader, model):\n",
        "\n",
        "  tokenizer = AutoTokenizer.from_pretrained(parameters['config'])\n",
        "  device = torch.device(\"cuda\" if torch.cuda.is_available() else \"cpu\")\n",
        "\n",
        "  total_probs, total_pred = [], []\n",
        "  loop = tqdm((data_loader), total=len(data_loader), leave=True, colour='green')\n",
        "\n",
        "  model.eval()\n",
        "  with torch.no_grad():\n",
        "    for data in loop:\n",
        "      # 將輸入數據移到設定的裝置上\n",
        "      input_ids, attention_mask, \\\n",
        "      token_type_ids = [t.to(device) for t in data]\n",
        "\n",
        "      # 前向傳播得到logits\n",
        "      logits = model(input_ids, attention_mask, token_type_ids)\n",
        "      # 使用Softmax函數計算概率\n",
        "      probs = Softmax(logits) # 獲取每個類別的概率\n",
        "      # 獲取概率最大的類別索引\n",
        "      label_index = torch.argmax(probs[0], dim=0)\n",
        "      pred = label_index.item()\n",
        "\n",
        "      total_probs.append(probs)\n",
        "      total_pred.append(pred)\n",
        "\n",
        "  return total_probs, total_pred"
      ],
      "id": "c0s5Da92XyRN"
    },
    {
      "cell_type": "code",
      "execution_count": null,
      "metadata": {
        "id": "lPkXV9J5XyRN",
        "colab": {
          "base_uri": "https://localhost:8080/"
        },
        "outputId": "563d7ada-563a-42fb-daba-0c42ccddd53c"
      },
      "outputs": [
        {
          "output_type": "stream",
          "name": "stderr",
          "text": [
            "100%|\u001b[32m██████████\u001b[0m| 5000/5000 [02:56<00:00, 28.34it/s]\n"
          ]
        }
      ],
      "source": [
        "# 加載測試數據集\n",
        "test_df = pd.read_csv('./test.tsv', sep = '\\t')\n",
        "test_dataset = CustomDataset('test', test_df, 'text', parameters)\n",
        "test_loader = DataLoader(test_dataset, batch_size=1, shuffle=False)\n",
        "\n",
        "total_probs, total_pred = predict(test_loader, model)\n",
        "res = test_df.copy()\n",
        "# 在原始數據文件中新增一列 'pred'，用於存儲預測的類別\n",
        "res['pred'] = total_pred\n",
        "\n",
        "# 將帶有預測結果的數據保存到新的 TSV 文件中\n",
        "res.to_csv('./result.tsv', sep='\\t', index=False)"
      ],
      "id": "lPkXV9J5XyRN"
    },
    {
      "cell_type": "code",
      "source": [
        "res.head(5)"
      ],
      "metadata": {
        "id": "e8R4lQHVCBw7",
        "colab": {
          "base_uri": "https://localhost:8080/",
          "height": 206
        },
        "outputId": "b9e653f7-175a-42f7-e142-92ed693ccc71"
      },
      "id": "e8R4lQHVCBw7",
      "execution_count": null,
      "outputs": [
        {
          "output_type": "execute_result",
          "data": {
            "text/plain": [
              "                                                text  label  pred\n",
              "0  This obviously was a pretty low budget product...      0     0\n",
              "1  My girls 4 and 6 love this show. We stumbled a...      1     1\n",
              "2  After watching a dozen episodes, I decided to ...      0     0\n",
              "3  One of the BEST movies I have seen in a very l...      1     1\n",
              "4  The year 2000 had been a bad year for indian f...      1     1"
            ],
            "text/html": [
              "\n",
              "  <div id=\"df-49780326-062d-4b86-9884-27f988523264\" class=\"colab-df-container\">\n",
              "    <div>\n",
              "<style scoped>\n",
              "    .dataframe tbody tr th:only-of-type {\n",
              "        vertical-align: middle;\n",
              "    }\n",
              "\n",
              "    .dataframe tbody tr th {\n",
              "        vertical-align: top;\n",
              "    }\n",
              "\n",
              "    .dataframe thead th {\n",
              "        text-align: right;\n",
              "    }\n",
              "</style>\n",
              "<table border=\"1\" class=\"dataframe\">\n",
              "  <thead>\n",
              "    <tr style=\"text-align: right;\">\n",
              "      <th></th>\n",
              "      <th>text</th>\n",
              "      <th>label</th>\n",
              "      <th>pred</th>\n",
              "    </tr>\n",
              "  </thead>\n",
              "  <tbody>\n",
              "    <tr>\n",
              "      <th>0</th>\n",
              "      <td>This obviously was a pretty low budget product...</td>\n",
              "      <td>0</td>\n",
              "      <td>0</td>\n",
              "    </tr>\n",
              "    <tr>\n",
              "      <th>1</th>\n",
              "      <td>My girls 4 and 6 love this show. We stumbled a...</td>\n",
              "      <td>1</td>\n",
              "      <td>1</td>\n",
              "    </tr>\n",
              "    <tr>\n",
              "      <th>2</th>\n",
              "      <td>After watching a dozen episodes, I decided to ...</td>\n",
              "      <td>0</td>\n",
              "      <td>0</td>\n",
              "    </tr>\n",
              "    <tr>\n",
              "      <th>3</th>\n",
              "      <td>One of the BEST movies I have seen in a very l...</td>\n",
              "      <td>1</td>\n",
              "      <td>1</td>\n",
              "    </tr>\n",
              "    <tr>\n",
              "      <th>4</th>\n",
              "      <td>The year 2000 had been a bad year for indian f...</td>\n",
              "      <td>1</td>\n",
              "      <td>1</td>\n",
              "    </tr>\n",
              "  </tbody>\n",
              "</table>\n",
              "</div>\n",
              "    <div class=\"colab-df-buttons\">\n",
              "\n",
              "  <div class=\"colab-df-container\">\n",
              "    <button class=\"colab-df-convert\" onclick=\"convertToInteractive('df-49780326-062d-4b86-9884-27f988523264')\"\n",
              "            title=\"Convert this dataframe to an interactive table.\"\n",
              "            style=\"display:none;\">\n",
              "\n",
              "  <svg xmlns=\"http://www.w3.org/2000/svg\" height=\"24px\" viewBox=\"0 -960 960 960\">\n",
              "    <path d=\"M120-120v-720h720v720H120Zm60-500h600v-160H180v160Zm220 220h160v-160H400v160Zm0 220h160v-160H400v160ZM180-400h160v-160H180v160Zm440 0h160v-160H620v160ZM180-180h160v-160H180v160Zm440 0h160v-160H620v160Z\"/>\n",
              "  </svg>\n",
              "    </button>\n",
              "\n",
              "  <style>\n",
              "    .colab-df-container {\n",
              "      display:flex;\n",
              "      gap: 12px;\n",
              "    }\n",
              "\n",
              "    .colab-df-convert {\n",
              "      background-color: #E8F0FE;\n",
              "      border: none;\n",
              "      border-radius: 50%;\n",
              "      cursor: pointer;\n",
              "      display: none;\n",
              "      fill: #1967D2;\n",
              "      height: 32px;\n",
              "      padding: 0 0 0 0;\n",
              "      width: 32px;\n",
              "    }\n",
              "\n",
              "    .colab-df-convert:hover {\n",
              "      background-color: #E2EBFA;\n",
              "      box-shadow: 0px 1px 2px rgba(60, 64, 67, 0.3), 0px 1px 3px 1px rgba(60, 64, 67, 0.15);\n",
              "      fill: #174EA6;\n",
              "    }\n",
              "\n",
              "    .colab-df-buttons div {\n",
              "      margin-bottom: 4px;\n",
              "    }\n",
              "\n",
              "    [theme=dark] .colab-df-convert {\n",
              "      background-color: #3B4455;\n",
              "      fill: #D2E3FC;\n",
              "    }\n",
              "\n",
              "    [theme=dark] .colab-df-convert:hover {\n",
              "      background-color: #434B5C;\n",
              "      box-shadow: 0px 1px 3px 1px rgba(0, 0, 0, 0.15);\n",
              "      filter: drop-shadow(0px 1px 2px rgba(0, 0, 0, 0.3));\n",
              "      fill: #FFFFFF;\n",
              "    }\n",
              "  </style>\n",
              "\n",
              "    <script>\n",
              "      const buttonEl =\n",
              "        document.querySelector('#df-49780326-062d-4b86-9884-27f988523264 button.colab-df-convert');\n",
              "      buttonEl.style.display =\n",
              "        google.colab.kernel.accessAllowed ? 'block' : 'none';\n",
              "\n",
              "      async function convertToInteractive(key) {\n",
              "        const element = document.querySelector('#df-49780326-062d-4b86-9884-27f988523264');\n",
              "        const dataTable =\n",
              "          await google.colab.kernel.invokeFunction('convertToInteractive',\n",
              "                                                    [key], {});\n",
              "        if (!dataTable) return;\n",
              "\n",
              "        const docLinkHtml = 'Like what you see? Visit the ' +\n",
              "          '<a target=\"_blank\" href=https://colab.research.google.com/notebooks/data_table.ipynb>data table notebook</a>'\n",
              "          + ' to learn more about interactive tables.';\n",
              "        element.innerHTML = '';\n",
              "        dataTable['output_type'] = 'display_data';\n",
              "        await google.colab.output.renderOutput(dataTable, element);\n",
              "        const docLink = document.createElement('div');\n",
              "        docLink.innerHTML = docLinkHtml;\n",
              "        element.appendChild(docLink);\n",
              "      }\n",
              "    </script>\n",
              "  </div>\n",
              "\n",
              "\n",
              "<div id=\"df-1964022d-278a-4ea1-a8d2-8ee5598b92d6\">\n",
              "  <button class=\"colab-df-quickchart\" onclick=\"quickchart('df-1964022d-278a-4ea1-a8d2-8ee5598b92d6')\"\n",
              "            title=\"Suggest charts\"\n",
              "            style=\"display:none;\">\n",
              "\n",
              "<svg xmlns=\"http://www.w3.org/2000/svg\" height=\"24px\"viewBox=\"0 0 24 24\"\n",
              "     width=\"24px\">\n",
              "    <g>\n",
              "        <path d=\"M19 3H5c-1.1 0-2 .9-2 2v14c0 1.1.9 2 2 2h14c1.1 0 2-.9 2-2V5c0-1.1-.9-2-2-2zM9 17H7v-7h2v7zm4 0h-2V7h2v10zm4 0h-2v-4h2v4z\"/>\n",
              "    </g>\n",
              "</svg>\n",
              "  </button>\n",
              "\n",
              "<style>\n",
              "  .colab-df-quickchart {\n",
              "      --bg-color: #E8F0FE;\n",
              "      --fill-color: #1967D2;\n",
              "      --hover-bg-color: #E2EBFA;\n",
              "      --hover-fill-color: #174EA6;\n",
              "      --disabled-fill-color: #AAA;\n",
              "      --disabled-bg-color: #DDD;\n",
              "  }\n",
              "\n",
              "  [theme=dark] .colab-df-quickchart {\n",
              "      --bg-color: #3B4455;\n",
              "      --fill-color: #D2E3FC;\n",
              "      --hover-bg-color: #434B5C;\n",
              "      --hover-fill-color: #FFFFFF;\n",
              "      --disabled-bg-color: #3B4455;\n",
              "      --disabled-fill-color: #666;\n",
              "  }\n",
              "\n",
              "  .colab-df-quickchart {\n",
              "    background-color: var(--bg-color);\n",
              "    border: none;\n",
              "    border-radius: 50%;\n",
              "    cursor: pointer;\n",
              "    display: none;\n",
              "    fill: var(--fill-color);\n",
              "    height: 32px;\n",
              "    padding: 0;\n",
              "    width: 32px;\n",
              "  }\n",
              "\n",
              "  .colab-df-quickchart:hover {\n",
              "    background-color: var(--hover-bg-color);\n",
              "    box-shadow: 0 1px 2px rgba(60, 64, 67, 0.3), 0 1px 3px 1px rgba(60, 64, 67, 0.15);\n",
              "    fill: var(--button-hover-fill-color);\n",
              "  }\n",
              "\n",
              "  .colab-df-quickchart-complete:disabled,\n",
              "  .colab-df-quickchart-complete:disabled:hover {\n",
              "    background-color: var(--disabled-bg-color);\n",
              "    fill: var(--disabled-fill-color);\n",
              "    box-shadow: none;\n",
              "  }\n",
              "\n",
              "  .colab-df-spinner {\n",
              "    border: 2px solid var(--fill-color);\n",
              "    border-color: transparent;\n",
              "    border-bottom-color: var(--fill-color);\n",
              "    animation:\n",
              "      spin 1s steps(1) infinite;\n",
              "  }\n",
              "\n",
              "  @keyframes spin {\n",
              "    0% {\n",
              "      border-color: transparent;\n",
              "      border-bottom-color: var(--fill-color);\n",
              "      border-left-color: var(--fill-color);\n",
              "    }\n",
              "    20% {\n",
              "      border-color: transparent;\n",
              "      border-left-color: var(--fill-color);\n",
              "      border-top-color: var(--fill-color);\n",
              "    }\n",
              "    30% {\n",
              "      border-color: transparent;\n",
              "      border-left-color: var(--fill-color);\n",
              "      border-top-color: var(--fill-color);\n",
              "      border-right-color: var(--fill-color);\n",
              "    }\n",
              "    40% {\n",
              "      border-color: transparent;\n",
              "      border-right-color: var(--fill-color);\n",
              "      border-top-color: var(--fill-color);\n",
              "    }\n",
              "    60% {\n",
              "      border-color: transparent;\n",
              "      border-right-color: var(--fill-color);\n",
              "    }\n",
              "    80% {\n",
              "      border-color: transparent;\n",
              "      border-right-color: var(--fill-color);\n",
              "      border-bottom-color: var(--fill-color);\n",
              "    }\n",
              "    90% {\n",
              "      border-color: transparent;\n",
              "      border-bottom-color: var(--fill-color);\n",
              "    }\n",
              "  }\n",
              "</style>\n",
              "\n",
              "  <script>\n",
              "    async function quickchart(key) {\n",
              "      const quickchartButtonEl =\n",
              "        document.querySelector('#' + key + ' button');\n",
              "      quickchartButtonEl.disabled = true;  // To prevent multiple clicks.\n",
              "      quickchartButtonEl.classList.add('colab-df-spinner');\n",
              "      try {\n",
              "        const charts = await google.colab.kernel.invokeFunction(\n",
              "            'suggestCharts', [key], {});\n",
              "      } catch (error) {\n",
              "        console.error('Error during call to suggestCharts:', error);\n",
              "      }\n",
              "      quickchartButtonEl.classList.remove('colab-df-spinner');\n",
              "      quickchartButtonEl.classList.add('colab-df-quickchart-complete');\n",
              "    }\n",
              "    (() => {\n",
              "      let quickchartButtonEl =\n",
              "        document.querySelector('#df-1964022d-278a-4ea1-a8d2-8ee5598b92d6 button');\n",
              "      quickchartButtonEl.style.display =\n",
              "        google.colab.kernel.accessAllowed ? 'block' : 'none';\n",
              "    })();\n",
              "  </script>\n",
              "</div>\n",
              "\n",
              "    </div>\n",
              "  </div>\n"
            ],
            "application/vnd.google.colaboratory.intrinsic+json": {
              "type": "dataframe",
              "variable_name": "res",
              "summary": "{\n  \"name\": \"res\",\n  \"rows\": 5000,\n  \"fields\": [\n    {\n      \"column\": \"text\",\n      \"properties\": {\n        \"dtype\": \"string\",\n        \"num_unique_values\": 4996,\n        \"samples\": [\n          \"I think the weighted average for this film is too low. I give it a 7. Very entertaining, although over the top in a few places. My wife says it passes the Danielle Steele test. Superb performances throughout, particularly by Andie MacDowell.\",\n          \"I thought the movie was good, but I like to read the real story behind the \\\"based on a true story\\\" movies. Does anyone know the names and locations of the real characters the movie is based on? I have done a complete internet search and cannot find any information on this case. All I get is the movie information and the fact that it is based on a \\\"true story.\\\" I find it hard to believe that a judge would change his sentence rendered immediately in the courtroom, even after such a heartfelt speech by the brother (gorgeous John Corbett), but overall the story was very gripping. Anyway, if anyone knows the real \\\"real story\\\", I would appreciate you sharing it!\",\n          \"This movie was absolutely pathetic. A pitiful screenplay and lack of any story just left me watching three losers drool over bikini babes. At times I felt like I was watching an episode of Beavis and Butthead. I couldn't even sit through the whole movie. Emran Hashmi disappoints, and Hrshitta Bhatt is not impressive at all. Celina Jaitley was not bad. The only worthwhile part of the film is the spoof on Anu Malik and his obsession of shayaris. It was pretty hilarious. The songs \\\"Sini Ne\\\" and its remix version were really good. You can always count on Emran lip-locking and lip-synching a chartbuster. All in all, it seems Emran doesn't have a good script from the Bhatts to back him up this time.\"\n        ],\n        \"semantic_type\": \"\",\n        \"description\": \"\"\n      }\n    },\n    {\n      \"column\": \"label\",\n      \"properties\": {\n        \"dtype\": \"number\",\n        \"std\": 0,\n        \"min\": 0,\n        \"max\": 1,\n        \"num_unique_values\": 2,\n        \"samples\": [\n          1,\n          0\n        ],\n        \"semantic_type\": \"\",\n        \"description\": \"\"\n      }\n    },\n    {\n      \"column\": \"pred\",\n      \"properties\": {\n        \"dtype\": \"number\",\n        \"std\": 0,\n        \"min\": 0,\n        \"max\": 1,\n        \"num_unique_values\": 2,\n        \"samples\": [\n          1,\n          0\n        ],\n        \"semantic_type\": \"\",\n        \"description\": \"\"\n      }\n    }\n  ]\n}"
            }
          },
          "metadata": {},
          "execution_count": 112
        }
      ]
    },
    {
      "cell_type": "code",
      "source": [
        "# 計算測試集的準確率，並印出結果\n",
        "correct = 0\n",
        "for idx, pred in enumerate(res['pred']):\n",
        "  if pred == res['label'][idx]:\n",
        "    correct += 1\n",
        "print('test accuracy = %.4f'%(correct/len(test_df)))"
      ],
      "metadata": {
        "id": "FDwvwbIokiq-",
        "colab": {
          "base_uri": "https://localhost:8080/"
        },
        "outputId": "44b99eea-bb8e-46de-a5c0-ff0eef6738de"
      },
      "id": "FDwvwbIokiq-",
      "execution_count": null,
      "outputs": [
        {
          "output_type": "stream",
          "name": "stdout",
          "text": [
            "test accuracy = 0.9208\n"
          ]
        }
      ]
    }
  ],
  "metadata": {
    "kernelspec": {
      "display_name": "Python 3",
      "language": "python",
      "name": "python3"
    },
    "language_info": {
      "codemirror_mode": {
        "name": "ipython",
        "version": 3
      },
      "file_extension": ".py",
      "mimetype": "text/x-python",
      "name": "python",
      "nbconvert_exporter": "python",
      "pygments_lexer": "ipython3",
      "version": "3.8.5"
    },
    "colab": {
      "provenance": []
    },
    "accelerator": "GPU",
    "gpuClass": "standard"
  },
  "nbformat": 4,
  "nbformat_minor": 5
}